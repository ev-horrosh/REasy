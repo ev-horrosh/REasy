{
 "cells": [
  {
   "cell_type": "code",
   "execution_count": 51,
   "metadata": {},
   "outputs": [],
   "source": [
    "import re\n",
    "import pandas as pd\n",
    "import string"
   ]
  },
  {
   "cell_type": "code",
   "execution_count": null,
   "metadata": {},
   "outputs": [],
   "source": [
    "def remove_currecy(self,currency:str,text:str):\n",
    "    self.currency=currency\n",
    "    self.text=text\n",
    "    if self.currency in self.expressions.keys():\n",
    "        sign=self.expressions[self.currency]\n",
    "        if sign =='$':\n",
    "            return re.sub(r'\\B[^\\w\\s\".,\\/]\\b','',self.text)\n",
    "        #     return re.sub(fr'\\b(?:({sign}))+(?![a-z]\\B)','',self.text)\n",
    "        else:\n",
    "            return re.sub(fr'\\b(?:({sign}))+(?![a-z]\\B)','',self.text)\n",
    "            # return re.sub (f'{self.boundary}(?:[{sign}])+(?![a-z])','',self.text)    # def remove_currecy(self,currency:str,text:str):\n",
    "    self.currency=currency\n",
    "    self.text=text\n",
    "    if self.currency in self.expressions.keys():\n",
    "        sign=self.expressions[self.currency]\n",
    "        if sign =='$':\n",
    "            return re.sub(r'\\B[^\\w\\s\".,\\/]\\b','',self.text)\n",
    "        #     return re.sub(fr'\\b(?:({sign}))+(?![a-z]\\B)','',self.text)\n",
    "        else:\n",
    "            return re.sub(fr'\\b(?:({sign}))+(?![a-z]\\B)','',self.text)\n",
    "            # return re.sub (f'{self.boundary}(?:[{sign}])+(?![a-z])','',self.text)"
   ]
  },
  {
   "cell_type": "code",
   "execution_count": 103,
   "metadata": {},
   "outputs": [
    {
     "data": {
      "text/html": [
       "<div>\n",
       "<style scoped>\n",
       "    .dataframe tbody tr th:only-of-type {\n",
       "        vertical-align: middle;\n",
       "    }\n",
       "\n",
       "    .dataframe tbody tr th {\n",
       "        vertical-align: top;\n",
       "    }\n",
       "\n",
       "    .dataframe thead th {\n",
       "        text-align: right;\n",
       "    }\n",
       "</style>\n",
       "<table border=\"1\" class=\"dataframe\">\n",
       "  <thead>\n",
       "    <tr style=\"text-align: right;\">\n",
       "      <th></th>\n",
       "      <th>USD</th>\n",
       "      <th>VEF</th>\n",
       "    </tr>\n",
       "  </thead>\n",
       "  <tbody>\n",
       "    <tr>\n",
       "      <th>0</th>\n",
       "      <td>2134.00</td>\n",
       "      <td>34256.12</td>\n",
       "    </tr>\n",
       "    <tr>\n",
       "      <th>1</th>\n",
       "      <td>3245.00</td>\n",
       "      <td>345.67</td>\n",
       "    </tr>\n",
       "    <tr>\n",
       "      <th>2</th>\n",
       "      <td>23.54</td>\n",
       "      <td>23456.70</td>\n",
       "    </tr>\n",
       "  </tbody>\n",
       "</table>\n",
       "</div>"
      ],
      "text/plain": [
       "       USD       VEF\n",
       "0  2134.00  34256.12\n",
       "1  3245.00    345.67\n",
       "2    23.54  23456.70"
      ]
     },
     "execution_count": 103,
     "metadata": {},
     "output_type": "execute_result"
    }
   ],
   "source": [
    "class REG:\n",
    "    expressions={'ALL': 'Lek', 'AFN': '؋', 'ARS': '$', 'AWG': 'ƒ', 'AUD': '$',\n",
    "    'AZN': '₼', 'BSD': '$', 'BBD': '$', 'BYN': 'Br', 'BZD': 'BZ$', 'BMD': '$',\n",
    "    'BOB': '$b', 'BAM': 'KM', 'BWP': 'P', 'BGN': 'лв', 'BRL': 'R$', 'BND': '$', 'KHR': '៛',\n",
    "    'CAD': '$', 'KYD': '$', 'CLP': '$', 'CNY': '¥', 'COP': '$', 'CRC': '₡', 'HRK': 'kn', 'CUP': '₱',\n",
    "    'CZK': 'Kč', 'DKK': 'kr', 'DOP': 'RD$', 'XCD': '$', 'EGP': '£', 'SVC': '$', 'EUR': '€', 'FKP': '£',\n",
    "    'FJD': '$', 'GHS': '¢', 'GIP': '£', 'GTQ': 'Q', 'GGP': '£', 'GYD': '$', 'HNL': 'L', 'HKD': '$',\n",
    "    'HUF': 'Ft', 'ISK': 'kr', 'INR': '₹', 'IDR': 'Rp', 'IRR': '﷼', 'IMP': '£', 'ILS': '₪', 'JMD': 'J$',\n",
    "    'JPY': '¥', 'JEP': '£', 'KZT': 'лв', 'KPW': '₩', 'KRW': '₩', 'KGS': 'лв', 'LAK': '₭', 'LBP': '£',\n",
    "    'LRD': '$', 'MKD': 'ден', 'MYR': 'RM', 'MUR': '₨', 'MXN': '$', 'MNT': ' د.إ', 'MZN': 'MT', 'NAD': '$',\n",
    "    'NPR': '₨', 'ANG': 'ƒ', 'NZD': '$', 'NIO': 'C$', 'NGN': '₦', 'NOK': 'kr', 'OMR': '﷼', 'PKR': '₨',\n",
    "    'PAB': 'B/.', 'PYG': 'Gs', 'PEN': 'S/.', 'PHP': '₱', 'PLN': 'zł', 'QAR': '﷼', 'RON': 'lei', 'RUB': '₽',\n",
    "    'SHP': '£', 'SAR': '﷼', 'RSD': 'Дин.', 'SCR': '₨', 'SGD': '$', 'SBD': '$', 'SOS': 'S', 'ZAR': 'R',\n",
    "    'LKR': '₨', 'SEK': 'kr', 'CHF': 'CHF', 'SRD': '$', 'SYP': '£', 'TWD': 'NT$', 'THB': '฿', 'TTD': 'TT$',\n",
    "    'TRY': '₺', 'TVD': '$', 'UAH': '₴', 'AED': ' د.إ', 'GBP': '£', 'USD': '$', 'UYU': '$U', 'UZS': 'лв',\n",
    "    'VEF': 'Bs', 'VND': '₫', 'YER': '﷼', 'ZWD': 'Z$'}\n",
    "    def __init__(self):\n",
    "        pass\n",
    "     \n",
    "    \n",
    "    def remove_currecy(self,currency:str,text):\n",
    "        self.currency=currency\n",
    "        self.text=text\n",
    "        if self.currency in self.expressions.keys():\n",
    "            sign=self.expressions[self.currency]\n",
    "            return float(' '.join([s[len(sign):] if s.startswith(sign) and \n",
    "                    not s[len(sign):].isalpha() else s for s in self.text.split()]))\n",
    "            \n",
    "        \n",
    "\n",
    "df=pd.DataFrame({'USD':['$2134','$3245','$23.54'],'VEF':['Bs34256.12','Bs345.67','Bs23456.7']})           \n",
    "text=df['USD'].to_list()\n",
    "reg=REG()\n",
    "df['USD']=df['USD'].apply(lambda x: reg.remove_currecy(\"USD\",x))\n",
    "df['VEF']=df['VEF'].apply(lambda x: reg.remove_currecy(\"VEF\",x))\n",
    "df"
   ]
  }
 ],
 "metadata": {
  "interpreter": {
   "hash": "96dc347d207968a7db558ff410a08f5cc5dad820656147c8cbdf95c82c892cbb"
  },
  "kernelspec": {
   "display_name": "Python 3.9.5 ('base')",
   "language": "python",
   "name": "python3"
  },
  "language_info": {
   "codemirror_mode": {
    "name": "ipython",
    "version": 3
   },
   "file_extension": ".py",
   "mimetype": "text/x-python",
   "name": "python",
   "nbconvert_exporter": "python",
   "pygments_lexer": "ipython3",
   "version": "3.9.5"
  },
  "orig_nbformat": 4
 },
 "nbformat": 4,
 "nbformat_minor": 2
}
