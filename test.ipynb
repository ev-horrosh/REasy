{
 "cells": [
  {
   "cell_type": "code",
   "execution_count": 2,
   "metadata": {},
   "outputs": [],
   "source": [
    "import re\n",
    "import pandas as pd"
   ]
  },
  {
   "cell_type": "code",
   "execution_count": 290,
   "metadata": {},
   "outputs": [],
   "source": [
    "class REG:\n",
    "    def __init__(self):\n",
    "        self.expressions={'ALL': 'Lek', 'AFN': '؋', 'ARS': '$', 'AWG': 'ƒ', 'AUD': '$',\n",
    "        'AZN': '₼', 'BSD': '$', 'BBD': '$', 'BYN': 'Br', 'BZD': 'BZ$', 'BMD': '$',\n",
    "        'BOB': '$b', 'BAM': 'KM', 'BWP': 'P', 'BGN': 'лв', 'BRL': 'R$', 'BND': '$', 'KHR': '៛',\n",
    "        'CAD': '$', 'KYD': '$', 'CLP': '$', 'CNY': '¥', 'COP': '$', 'CRC': '₡', 'HRK': 'kn', 'CUP': '₱',\n",
    "        'CZK': 'Kč', 'DKK': 'kr', 'DOP': 'RD$', 'XCD': '$', 'EGP': '£', 'SVC': '$', 'EUR': '€', 'FKP': '£',\n",
    "        'FJD': '$', 'GHS': '¢', 'GIP': '£', 'GTQ': 'Q', 'GGP': '£', 'GYD': '$', 'HNL': 'L', 'HKD': '$',\n",
    "        'HUF': 'Ft', 'ISK': 'kr', 'INR': '₹', 'IDR': 'Rp', 'IRR': '﷼', 'IMP': '£', 'ILS': '₪', 'JMD': 'J$',\n",
    "        'JPY': '¥', 'JEP': '£', 'KZT': 'лв', 'KPW': '₩', 'KRW': '₩', 'KGS': 'лв', 'LAK': '₭', 'LBP': '£',\n",
    "        'LRD': '$', 'MKD': 'ден', 'MYR': 'RM', 'MUR': '₨', 'MXN': '$', 'MNT': ' د.إ', 'MZN': 'MT', 'NAD': '$',\n",
    "        'NPR': '₨', 'ANG': 'ƒ', 'NZD': '$', 'NIO': 'C$', 'NGN': '₦', 'NOK': 'kr', 'OMR': '﷼', 'PKR': '₨',\n",
    "        'PAB': 'B/.', 'PYG': 'Gs', 'PEN': 'S/.', 'PHP': '₱', 'PLN': 'zł', 'QAR': '﷼', 'RON': 'lei', 'RUB': '₽',\n",
    "        'SHP': '£', 'SAR': '﷼', 'RSD': 'Дин.', 'SCR': '₨', 'SGD': '$', 'SBD': '$', 'SOS': 'S', 'ZAR': 'R',\n",
    "        'LKR': '₨', 'SEK': 'kr', 'CHF': 'CHF', 'SRD': '$', 'SYP': '£', 'TWD': 'NT$', 'THB': '฿', 'TTD': 'TT$',\n",
    "        'TRY': '₺', 'TVD': '$', 'UAH': '₴', 'AED': ' د.إ', 'GBP': '£', 'USD': '$', 'UYU': '$U', 'UZS': 'лв',\n",
    "        'VEF': 'Bs', 'VND': '₫', 'YER': '﷼', 'ZWD': 'Z$'}\n",
    "        self.boundary=r\"\\b\"\n",
    "        self.dollar=r\"\\$\"\n",
    "    \n",
    "    def remove_currecy(self,currency:str,text:str):\n",
    "        self.currency=currency\n",
    "        self.text=text\n",
    "        if self.currency in self.expressions.keys():\n",
    "            sign=self.expressions[self.currency]\n",
    "            if sign in ['$','S']:\n",
    "\n",
    "                return re.sub(f'{self.boundary}(?:[{sign}])+(?![a-z]\\B)','',self.text)\n",
    "                # return re.sub (f'{self.boundary}(?:[{sign}])+(?![a-z])','',self.text)\n",
    "           \n",
    "text=\"\"\"$536.754.33 Bs500.23 were contr B$air Bs500,23$ were Bsair Bs74839Bs. dshgifj Bs4567 fidjfdg\n",
    "sdjkf Bsfgfdf $384\"\"\"\n",
    "reg=REG()\n",
    "reg.remove_currecy(\"VEF\",text)\n",
    "\n"
   ]
  },
  {
   "cell_type": "code",
   "execution_count": 277,
   "metadata": {},
   "outputs": [
    {
     "data": {
      "text/plain": [
       "'b(?:[Bs])+(?![a-z])'"
      ]
     },
     "execution_count": 277,
     "metadata": {},
     "output_type": "execute_result"
    }
   ],
   "source": [
    "'''\\b(?:(Bs))+(?![a-z])'''"
   ]
  },
  {
   "cell_type": "code",
   "execution_count": 278,
   "metadata": {},
   "outputs": [
    {
     "data": {
      "text/plain": [
       "'536.754.33 Bs500.23 were contr Bair Bs500,23 were Bsair Bs74839Bs. dshgifj Bs4567 fidjfdg\\nsdjkf Bsfgfdf 384'"
      ]
     },
     "execution_count": 278,
     "metadata": {},
     "output_type": "execute_result"
    }
   ],
   "source": [
    "re.sub('\\$','',text)"
   ]
  },
  {
   "cell_type": "code",
   "execution_count": 279,
   "metadata": {},
   "outputs": [
    {
     "data": {
      "text/plain": [
       "'\\\\'"
      ]
     },
     "execution_count": 279,
     "metadata": {},
     "output_type": "execute_result"
    }
   ],
   "source": [
    "chr(92)"
   ]
  },
  {
   "cell_type": "code",
   "execution_count": 141,
   "metadata": {},
   "outputs": [
    {
     "data": {
      "text/plain": [
       "'$500.23 were contr'"
      ]
     },
     "execution_count": 141,
     "metadata": {},
     "output_type": "execute_result"
    }
   ],
   "source": [
    "reg.remove_currecy(\"PEN\",text)"
   ]
  },
  {
   "cell_type": "code",
   "execution_count": 56,
   "metadata": {},
   "outputs": [],
   "source": [
    "expressions={'ALL': 'Lek', 'AFN': '؋', 'ARS': '$', 'AWG': 'ƒ', 'AUD': '$',\n",
    "'AZN': '₼', 'BSD': '$', 'BBD': '$', 'BYN': 'Br', 'BZD': 'BZ$', 'BMD': '$',\n",
    "'BOB': '$b', 'BAM': 'KM', 'BWP': 'P', 'BGN': 'лв', 'BRL': 'R$', 'BND': '$', 'KHR': '៛',\n",
    "'CAD': '$', 'KYD': '$', 'CLP': '$', 'CNY': '¥', 'COP': '$', 'CRC': '₡', 'HRK': 'kn', 'CUP': '₱',\n",
    "'CZK': 'Kč', 'DKK': 'kr', 'DOP': 'RD$', 'XCD': '$', 'EGP': '£', 'SVC': '$', 'EUR': '€', 'FKP': '£',\n",
    "'FJD': '$', 'GHS': '¢', 'GIP': '£', 'GTQ': 'Q', 'GGP': '£', 'GYD': '$', 'HNL': 'L', 'HKD': '$',\n",
    "'HUF': 'Ft', 'ISK': 'kr', 'INR': '₹', 'IDR': 'Rp', 'IRR': '﷼', 'IMP': '£', 'ILS': '₪', 'JMD': 'J$',\n",
    "'JPY': '¥', 'JEP': '£', 'KZT': 'лв', 'KPW': '₩', 'KRW': '₩', 'KGS': 'лв', 'LAK': '₭', 'LBP': '£',\n",
    "'LRD': '$', 'MKD': 'ден', 'MYR': 'RM', 'MUR': '₨', 'MXN': '$', 'MNT': ' د.إ', 'MZN': 'MT', 'NAD': '$',\n",
    "'NPR': '₨', 'ANG': 'ƒ', 'NZD': '$', 'NIO': 'C$', 'NGN': '₦', 'NOK': 'kr', 'OMR': '﷼', 'PKR': '₨',\n",
    "'PAB': 'B/.', 'PYG': 'Gs', 'PEN': 'S/.', 'PHP': '₱', 'PLN': 'zł', 'QAR': '﷼', 'RON': 'lei', 'RUB': '₽',\n",
    "'SHP': '£', 'SAR': '﷼', 'RSD': 'Дин.', 'SCR': '₨', 'SGD': '$', 'SBD': '$', 'SOS': 'S', 'ZAR': 'R',\n",
    "'LKR': '₨', 'SEK': 'kr', 'CHF': 'CHF', 'SRD': '$', 'SYP': '£', 'TWD': 'NT$', 'THB': '฿', 'TTD': 'TT$',\n",
    "'TRY': '₺', 'TVD': '$', 'UAH': '₴', 'AED': ' د.إ', 'GBP': '£', 'USD': '$', 'UYU': '$U', 'UZS': 'лв',\n",
    "'VEF': 'Bs', 'VND': '₫', 'YER': '﷼', 'ZWD': 'Z$'}\n"
   ]
  },
  {
   "cell_type": "code",
   "execution_count": 151,
   "metadata": {},
   "outputs": [
    {
     "name": "stdout",
     "output_type": "stream",
     "text": [
      "S/.\n"
     ]
    }
   ],
   "source": [
    "word='PEN'\n",
    "if word in expressions.keys():\n",
    "    print(expressions[word])\n",
    "    "
   ]
  }
 ],
 "metadata": {
  "interpreter": {
   "hash": "96dc347d207968a7db558ff410a08f5cc5dad820656147c8cbdf95c82c892cbb"
  },
  "kernelspec": {
   "display_name": "Python 3.9.5 ('base')",
   "language": "python",
   "name": "python3"
  },
  "language_info": {
   "codemirror_mode": {
    "name": "ipython",
    "version": 3
   },
   "file_extension": ".py",
   "mimetype": "text/x-python",
   "name": "python",
   "nbconvert_exporter": "python",
   "pygments_lexer": "ipython3",
   "version": "3.9.5"
  },
  "orig_nbformat": 4
 },
 "nbformat": 4,
 "nbformat_minor": 2
}
