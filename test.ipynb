{
 "cells": [
  {
   "cell_type": "code",
   "execution_count": 6,
   "metadata": {},
   "outputs": [],
   "source": [
    "import re\n",
    "import pandas as pd\n",
    "import string"
   ]
  },
  {
   "cell_type": "code",
   "execution_count": null,
   "metadata": {},
   "outputs": [],
   "source": [
    "def remove_currecy(self,currency:str,text:str):\n",
    "    self.currency=currency\n",
    "    self.text=text\n",
    "    if self.currency in self.expressions.keys():\n",
    "        sign=self.expressions[self.currency]\n",
    "        if sign =='$':\n",
    "            return re.sub(r'\\B[^\\w\\s\".,\\/]\\b','',self.text)\n",
    "        #     return re.sub(fr'\\b(?:({sign}))+(?![a-z]\\B)','',self.text)\n",
    "        else:\n",
    "            return re.sub(fr'\\b(?:({sign}))+(?![a-z]\\B)','',self.text)\n",
    "            # return re.sub (f'{self.boundary}(?:[{sign}])+(?![a-z])','',self.text)    # def remove_currecy(self,currency:str,text:str):\n",
    "    self.currency=currency\n",
    "    self.text=text\n",
    "    if self.currency in self.expressions.keys():\n",
    "        sign=self.expressions[self.currency]\n",
    "        if sign =='$':\n",
    "            return re.sub(r'\\B[^\\w\\s\".,\\/]\\b','',self.text)\n",
    "        #     return re.sub(fr'\\b(?:({sign}))+(?![a-z]\\B)','',self.text)\n",
    "        else:\n",
    "            return re.sub(fr'\\b(?:({sign}))+(?![a-z]\\B)','',self.text)\n",
    "            # return re.sub (f'{self.boundary}(?:[{sign}])+(?![a-z])','',self.text)"
   ]
  },
  {
   "cell_type": "code",
   "execution_count": 88,
   "metadata": {},
   "outputs": [
    {
     "data": {
      "text/html": [
       "<div>\n",
       "<style scoped>\n",
       "    .dataframe tbody tr th:only-of-type {\n",
       "        vertical-align: middle;\n",
       "    }\n",
       "\n",
       "    .dataframe tbody tr th {\n",
       "        vertical-align: top;\n",
       "    }\n",
       "\n",
       "    .dataframe thead th {\n",
       "        text-align: right;\n",
       "    }\n",
       "</style>\n",
       "<table border=\"1\" class=\"dataframe\">\n",
       "  <thead>\n",
       "    <tr style=\"text-align: right;\">\n",
       "      <th></th>\n",
       "      <th>USD</th>\n",
       "      <th>VEF</th>\n",
       "    </tr>\n",
       "  </thead>\n",
       "  <tbody>\n",
       "    <tr>\n",
       "      <th>0</th>\n",
       "      <td>8424.66</td>\n",
       "      <td>1138.40</td>\n",
       "    </tr>\n",
       "    <tr>\n",
       "      <th>1</th>\n",
       "      <td>7721.83</td>\n",
       "      <td>4704.45</td>\n",
       "    </tr>\n",
       "    <tr>\n",
       "      <th>2</th>\n",
       "      <td>1443.74</td>\n",
       "      <td>2770.67</td>\n",
       "    </tr>\n",
       "    <tr>\n",
       "      <th>3</th>\n",
       "      <td>9373.53</td>\n",
       "      <td>9596.99</td>\n",
       "    </tr>\n",
       "    <tr>\n",
       "      <th>4</th>\n",
       "      <td>9201.54</td>\n",
       "      <td>2123.42</td>\n",
       "    </tr>\n",
       "    <tr>\n",
       "      <th>...</th>\n",
       "      <td>...</td>\n",
       "      <td>...</td>\n",
       "    </tr>\n",
       "    <tr>\n",
       "      <th>994</th>\n",
       "      <td>4672.66</td>\n",
       "      <td>5195.76</td>\n",
       "    </tr>\n",
       "    <tr>\n",
       "      <th>995</th>\n",
       "      <td>1644.68</td>\n",
       "      <td>8758.72</td>\n",
       "    </tr>\n",
       "    <tr>\n",
       "      <th>996</th>\n",
       "      <td>7504.95</td>\n",
       "      <td>6418.83</td>\n",
       "    </tr>\n",
       "    <tr>\n",
       "      <th>997</th>\n",
       "      <td>3470.93</td>\n",
       "      <td>9257.40</td>\n",
       "    </tr>\n",
       "    <tr>\n",
       "      <th>998</th>\n",
       "      <td>5261.92</td>\n",
       "      <td>8447.67</td>\n",
       "    </tr>\n",
       "  </tbody>\n",
       "</table>\n",
       "<p>999 rows × 2 columns</p>\n",
       "</div>"
      ],
      "text/plain": [
       "         USD      VEF\n",
       "0    8424.66  1138.40\n",
       "1    7721.83  4704.45\n",
       "2    1443.74  2770.67\n",
       "3    9373.53  9596.99\n",
       "4    9201.54  2123.42\n",
       "..       ...      ...\n",
       "994  4672.66  5195.76\n",
       "995  1644.68  8758.72\n",
       "996  7504.95  6418.83\n",
       "997  3470.93  9257.40\n",
       "998  5261.92  8447.67\n",
       "\n",
       "[999 rows x 2 columns]"
      ]
     },
     "execution_count": 88,
     "metadata": {},
     "output_type": "execute_result"
    }
   ],
   "source": [
    "# %%timeit\n",
    "class REG:\n",
    "    expressions={'ALL': 'Lek', 'AFN': '؋', 'ARS': '$', 'AWG': 'ƒ', 'AUD': '$',\n",
    "    'AZN': '₼', 'BSD': '$', 'BBD': '$', 'BYN': 'Br', 'BZD': 'BZ$', 'BMD': '$',\n",
    "    'BOB': '$b', 'BAM': 'KM', 'BWP': 'P', 'BGN': 'лв', 'BRL': 'R$', 'BND': '$', 'KHR': '៛',\n",
    "    'CAD': '$', 'KYD': '$', 'CLP': '$', 'CNY': '¥', 'COP': '$', 'CRC': '₡', 'HRK': 'kn', 'CUP': '₱',\n",
    "    'CZK': 'Kč', 'DKK': 'kr', 'DOP': 'RD$', 'XCD': '$', 'EGP': '£', 'SVC': '$', 'EUR': '€', 'FKP': '£',\n",
    "    'FJD': '$', 'GHS': '¢', 'GIP': '£', 'GTQ': 'Q', 'GGP': '£', 'GYD': '$', 'HNL': 'L', 'HKD': '$',\n",
    "    'HUF': 'Ft', 'ISK': 'kr', 'INR': '₹', 'IDR': 'Rp', 'IRR': '﷼', 'IMP': '£', 'ILS': '₪', 'JMD': 'J$',\n",
    "    'JPY': '¥', 'JEP': '£', 'KZT': 'лв', 'KPW': '₩', 'KRW': '₩', 'KGS': 'лв', 'LAK': '₭', 'LBP': '£',\n",
    "    'LRD': '$', 'MKD': 'ден', 'MYR': 'RM', 'MUR': '₨', 'MXN': '$', 'MNT': ' د.إ', 'MZN': 'MT', 'NAD': '$',\n",
    "    'NPR': '₨', 'ANG': 'ƒ', 'NZD': '$', 'NIO': 'C$', 'NGN': '₦', 'NOK': 'kr', 'OMR': '﷼', 'PKR': '₨',\n",
    "    'PAB': 'B/.', 'PYG': 'Gs', 'PEN': 'S/.', 'PHP': '₱', 'PLN': 'zł', 'QAR': '﷼', 'RON': 'lei', 'RUB': '₽',\n",
    "    'SHP': '£', 'SAR': '﷼', 'RSD': 'Дин.', 'SCR': '₨', 'SGD': '$', 'SBD': '$', 'SOS': 'S', 'ZAR': 'R',\n",
    "    'LKR': '₨', 'SEK': 'kr', 'CHF': 'CHF', 'SRD': '$', 'SYP': '£', 'TWD': 'NT$', 'THB': '฿', 'TTD': 'TT$',\n",
    "    'TRY': '₺', 'TVD': '$', 'UAH': '₴', 'AED': ' د.إ', 'GBP': '£', 'USD': '$', 'UYU': '$U', 'UZS': 'лв',\n",
    "    'VEF': 'Bs', 'VND': '₫', 'YER': '﷼', 'ZWD': 'Z$'}\n",
    "    def __init__(self):\n",
    "        pass\n",
    "     \n",
    "    \n",
    "    def convert_currency(self,val,sign):\n",
    "        new_val = val.replace(f'{sign}', '')\n",
    "        if ',' in new_val:\n",
    "            new_val = new_val.replace(',','')\n",
    "        return float(new_val)\n",
    "    \n",
    "    def remove_currecy(self,val:str,currency:str=None,sign:str=None):\n",
    "        self.currency=currency\n",
    "        self.val=val\n",
    "        self.sign=sign\n",
    "        if currency:\n",
    "            if self.currency in self.expressions.keys():\n",
    "                sign=self.expressions[self.currency]\n",
    "                return self.convert_currency(self.val,sign)\n",
    "        else:\n",
    "            return self.convert_currency(self.val,sign)\n",
    "\n",
    "            \n",
    "\n",
    "import random\n",
    "\n",
    "usd=['$'+str(random.randrange(1,10))+','+str(random.randrange(100,1000))+'.'+str(random.randrange(10,100)) for i in range(1,1000)]\n",
    "bs=['Bs'+str(random.randrange(1,10))+','+str(random.randrange(100,1000))+'.'+str(random.randrange(10,100)) for i in range(1,1000)]\n",
    "\n",
    "\n",
    "df=pd.DataFrame({'USD':usd,'VEF':bs})           \n",
    "# text=df['USD'].to_list()\n",
    "reg=REG()\n",
    "df['USD']=df['USD'].apply(lambda x: reg.remove_currecy(x,sign='$'))\n",
    "df['VEF']=df['VEF'].apply(lambda x: reg.remove_currecy(x,sign='Bs'))\n",
    "# df['USD']=df['USD'].apply(lambda x: reg.remove_currecy(x,currency='USD'))\n",
    "# df['VEF']=df['VEF'].apply(lambda x: reg.remove_currecy(x,currency=\"VEF\"))\n",
    "df"
   ]
  },
  {
   "cell_type": "code",
   "execution_count": 53,
   "metadata": {},
   "outputs": [],
   "source": [
    "14,18,26"
   ]
  },
  {
   "cell_type": "code",
   "execution_count": 65,
   "metadata": {},
   "outputs": [
    {
     "name": "stderr",
     "output_type": "stream",
     "text": [
      "UsageError: Line magic function `%%time` not found.\n"
     ]
    }
   ],
   "source": [
    "from timeit import timeit\n",
    "\n",
    "df=pd.DataFrame({'USD':usd,'VEF':bs})           \n",
    "# text=df['USD'].to_list()\n",
    "reg=REG()\n",
    "%%time\n",
    "df['USD']=df['USD'].apply(lambda x: reg.remove_currecy(x,sign='$'))\n",
    "df['VEF']=df['VEF'].apply(lambda x: reg.remove_currecy(x,sign=\"Bs\"))\n",
    "df"
   ]
  },
  {
   "cell_type": "code",
   "execution_count": null,
   "metadata": {},
   "outputs": [],
   "source": [
    "dollar='-?(?<=\\$)\\d+,?[\\.0-9]+'"
   ]
  },
  {
   "cell_type": "code",
   "execution_count": null,
   "metadata": {},
   "outputs": [],
   "source": []
  }
 ],
 "metadata": {
  "interpreter": {
   "hash": "96dc347d207968a7db558ff410a08f5cc5dad820656147c8cbdf95c82c892cbb"
  },
  "kernelspec": {
   "display_name": "Python 3.9.5 ('base')",
   "language": "python",
   "name": "python3"
  },
  "language_info": {
   "codemirror_mode": {
    "name": "ipython",
    "version": 3
   },
   "file_extension": ".py",
   "mimetype": "text/x-python",
   "name": "python",
   "nbconvert_exporter": "python",
   "pygments_lexer": "ipython3",
   "version": "3.9.5"
  },
  "orig_nbformat": 4
 },
 "nbformat": 4,
 "nbformat_minor": 2
}
